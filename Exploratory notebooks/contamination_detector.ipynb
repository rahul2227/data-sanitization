{
 "cells": [
  {
   "metadata": {},
   "cell_type": "markdown",
   "source": [
    "# Contamination Detector Module MVP\n",
    "\n",
    "I have tried detecting potentially contaminated segments in our training data.\n",
    "\n",
    "According to the seminar and project scope we have performed two main scopoes.\n",
    "1. **Reference Benchmark Comparison:** Each segment is compared against a reference set (synthetic here) via semantic similarity.\n",
    "2. **PaCoST-Inspired Confidence Testing:** For each segment, we generate a perturbed variant and compute model confidence (via perplexity) using a lightweight LM. A significant gap in confidence (lower perplexity on the original) indicates possible memorization or contamination."
   ],
   "id": "585bbb7c122e7d87"
  },
  {
   "cell_type": "code",
   "id": "initial_id",
   "metadata": {
    "collapsed": true,
    "ExecuteTime": {
     "end_time": "2025-03-28T15:56:16.012985Z",
     "start_time": "2025-03-28T15:56:12.922947Z"
    }
   },
   "source": [
    "# Imports\n",
    "import os\n",
    "import random\n",
    "import numpy as np\n",
    "import pandas as pd\n",
    "import torch\n",
    "from transformers import AutoTokenizer, AutoModelForCausalLM\n",
    "from sentence_transformers import SentenceTransformer, util\n",
    "from scipy.stats import ttest_rel\n",
    "import matplotlib.pyplot as plt\n",
    "\n",
    "# For timing and progress display\n",
    "from tqdm.notebook import tqdm"
   ],
   "outputs": [],
   "execution_count": 1
  },
  {
   "metadata": {},
   "cell_type": "markdown",
   "source": "## Loading the preprocessed data",
   "id": "fa10e56af18cb385"
  },
  {
   "metadata": {
    "ExecuteTime": {
     "end_time": "2025-03-28T15:59:59.627740Z",
     "start_time": "2025-03-28T15:56:16.017620Z"
    }
   },
   "cell_type": "code",
   "source": [
    "data_file = os.path.join(\"../data\", \"preprocessed_wikitext103_subset.csv\")\n",
    "df = pd.read_csv(data_file, on_bad_lines='skip', engine='python')\n",
    "print(\"Loaded data shape:\", df.shape)\n",
    "print(\"Sample rows:\")\n",
    "print(df.head())"
   ],
   "id": "423e8cebf3d404b6",
   "outputs": [
    {
     "name": "stdout",
     "output_type": "stream",
     "text": [
      "Loaded data shape: (189700, 5)\n",
      "Sample rows:\n",
      "                                                text  text_length  \\\n",
      "0  = Valkyria Chronicles III =\\nSenjō no Valkyria...        20297   \n",
      "1  = Valkyria Chronicles III =\\nSenjō no Valkyria...        20297   \n",
      "2  = Valkyria Chronicles III =\\nSenjō no Valkyria...        20297   \n",
      "3  = Valkyria Chronicles III =\\nSenjō no Valkyria...        20297   \n",
      "4  = Valkyria Chronicles III =\\nSenjō no Valkyria...        20297   \n",
      "\n",
      "                                        cleaned_text  \\\n",
      "0  = valkyria chronicles iii = senj no valkyria 3...   \n",
      "1  = valkyria chronicles iii = senj no valkyria 3...   \n",
      "2  = valkyria chronicles iii = senj no valkyria 3...   \n",
      "3  = valkyria chronicles iii = senj no valkyria 3...   \n",
      "4  = valkyria chronicles iii = senj no valkyria 3...   \n",
      "\n",
      "                                              tokens  \\\n",
      "0  ['=', 'Ġv', 'alky', 'ria', 'Ġchron', 'icles', ...   \n",
      "1  ['=', 'Ġv', 'alky', 'ria', 'Ġchron', 'icles', ...   \n",
      "2  ['=', 'Ġv', 'alky', 'ria', 'Ġchron', 'icles', ...   \n",
      "3  ['=', 'Ġv', 'alky', 'ria', 'Ġchron', 'icles', ...   \n",
      "4  ['=', 'Ġv', 'alky', 'ria', 'Ġchron', 'icles', ...   \n",
      "\n",
      "                                            segments  \n",
      "0  = valkyria chronicles iii = senj no valkyria 3...  \n",
      "1  valkyria of the battlefield 3), commonly refer...  \n",
      "2  released in january 2011 in japan, it is the t...  \n",
      "3  employing the same fusion of tactical and real...  \n",
      "4  the game began development in 2010, carrying o...  \n"
     ]
    }
   ],
   "execution_count": 2
  },
  {
   "metadata": {},
   "cell_type": "markdown",
   "source": [
    "### Load/Define Reference Benchmark Data\n",
    "For now, I am defining a small reference set, later I plan to add texts from projectGutenberg or alike."
   ],
   "id": "2668d4633411179b"
  },
  {
   "metadata": {
    "ExecuteTime": {
     "end_time": "2025-03-28T16:00:04.485080Z",
     "start_time": "2025-03-28T16:00:00.255818Z"
    }
   },
   "cell_type": "code",
   "source": [
    "reference_texts = [\n",
    "    \"this is a known contaminated text from benchmark dataset\",\n",
    "    \"another reference text that should not be in the training data\",\n",
    "    \"benchmark evaluation text that must remain separate\"\n",
    "]\n",
    "\n",
    "# Load a SentenceTransformer model for computing embeddings\n",
    "ref_model = SentenceTransformer('all-MiniLM-L6-v2')\n",
    "\n",
    "# Compute embeddings for the reference texts\n",
    "ref_embeddings = ref_model.encode(reference_texts, convert_to_tensor=True)"
   ],
   "id": "e84dbd7cb6523646",
   "outputs": [],
   "execution_count": 3
  },
  {
   "metadata": {},
   "cell_type": "markdown",
   "source": [
    "## Define Functions for reference comparison\n",
    "\n",
    "a function that computes maximum cosine similarity between a given segment and the reference texts. If the similarity exceeds a threshold (e.g., 0.9), we flag the segment as potentially contaminated by reference overlap."
   ],
   "id": "6d0e68561901f9ee"
  },
  {
   "metadata": {
    "ExecuteTime": {
     "end_time": "2025-03-28T16:00:04.490345Z",
     "start_time": "2025-03-28T16:00:04.488510Z"
    }
   },
   "cell_type": "code",
   "source": [
    "def check_reference_similarity(segment, ref_embeddings, threshold=0.9):\n",
    "    # Compute embedding for the segment\n",
    "    segment_embedding = ref_model.encode(segment, convert_to_tensor=True)\n",
    "    # Compute cosine similarities with each reference embedding\n",
    "    cos_scores = util.cos_sim(segment_embedding, ref_embeddings)\n",
    "    max_sim = cos_scores.max().item()\n",
    "    flag = max_sim >= threshold\n",
    "    return max_sim, flag"
   ],
   "id": "ff8ca1854c0479d3",
   "outputs": [],
   "execution_count": 4
  },
  {
   "metadata": {},
   "cell_type": "markdown",
   "source": [
    "## Confidence Testing(PaCoST-Inspired)\n",
    "\n",
    "**Perturbation Function:** We define a simple perturbation function that shuffles the words in the segment. (In practice, you might use more advanced paraphrasing techniques.)\n",
    "\n",
    "**Perplexity Calculation:** We use a lightweight LM (DistilGPT-2) to compute the perplexity of a text. Lower perplexity indicates higher confidence.\n",
    "\n",
    "**Note:** Perplexity is computed as the exponential of the loss from the model. I have used small batch size for avoiding memory issues as most of the code is working locally.\n"
   ],
   "id": "d2509bff2fd3d3e5"
  },
  {
   "metadata": {
    "ExecuteTime": {
     "end_time": "2025-03-28T16:00:05.349601Z",
     "start_time": "2025-03-28T16:00:04.574051Z"
    }
   },
   "cell_type": "code",
   "source": [
    "def perturb_text(text):\n",
    "    words = text.split()\n",
    "    if len(words) <= 1:\n",
    "        return text  # No perturbation possible for single-word texts\n",
    "    random.shuffle(words)\n",
    "    return \" \".join(words)\n",
    "\n",
    "# Load a lightweight LM for perplexity calculation\n",
    "lm_model_name = \"distilgpt2\"  # a lightweight model\n",
    "lm_model = AutoModelForCausalLM.from_pretrained(lm_model_name)\n",
    "lm_tokenizer = AutoTokenizer.from_pretrained(lm_model_name)\n",
    "lm_model.eval()\n",
    "if torch.mps.is_available():\n",
    "    lm_model.to(\"mps\")\n",
    "\n",
    "def compute_perplexity(text, model, tokenizer):\n",
    "    # Encode the text and compute loss (per-token)\n",
    "    encodings = tokenizer(text, return_tensors='pt')\n",
    "    # if torch.cuda.is_available():\n",
    "    #     encodings = {k: v.to(\"cuda\") for k, v in encodings.items()}\n",
    "    if torch.mps.is_available():\n",
    "        encodings = {k: v.to(\"mps\") for k, v in encodings.items()}\n",
    "        # print(\"mps available\")\n",
    "    with torch.no_grad():\n",
    "        outputs = model(**encodings, labels=encodings[\"input_ids\"])\n",
    "    loss = outputs.loss\n",
    "    perplexity = torch.exp(loss)\n",
    "    return perplexity.item()"
   ],
   "id": "5b333f71e32210c8",
   "outputs": [],
   "execution_count": 5
  },
  {
   "metadata": {},
   "cell_type": "markdown",
   "source": [
    "## Contamination detection on a Batch of Segments\n",
    "\n",
    "processing the data in batches:\n",
    "1. Check reference similarity\n",
    "2. Compute perplexity for the original segment.\n",
    "3. Generate a perturbed version and compute its perplexity.\n",
    "4. Flag the segment if:\n",
    "    - The max reference similarity is above a threshold (0.8), OR\n",
    "    - The original perplexity is significantly lower than the perturbed perplexity\n",
    "- **Simple Ration Test:** if perplexity(original) < 0.8 * perplexity(perturbed), I flag it."
   ],
   "id": "52bd1552ae46a3ba"
  },
  {
   "metadata": {
    "ExecuteTime": {
     "end_time": "2025-03-28T16:00:05.370499Z",
     "start_time": "2025-03-28T16:00:05.352487Z"
    }
   },
   "cell_type": "code",
   "source": [
    "# sample_df = df.sample(n=1000, random_state=42).copy()\n",
    "sample_df = df.copy() # testing for complete dataset\n",
    "# lists to hold the results\n",
    "ref_similarities = []\n",
    "ref_flags = []\n",
    "perplexity_orig_list = []\n",
    "perplexity_perturbed_list = []\n",
    "confidence_flags = []\n",
    "\n",
    "# threshold for perplexity ratio\n",
    "perplexity_ratio_threshold = 0.8"
   ],
   "id": "dc163d5de566d167",
   "outputs": [],
   "execution_count": 6
  },
  {
   "metadata": {
    "ExecuteTime": {
     "end_time": "2025-03-28T17:17:14.782917Z",
     "start_time": "2025-03-28T16:00:05.402184Z"
    }
   },
   "cell_type": "code",
   "source": [
    "# Process each segment in the sample\n",
    "for seg in tqdm(sample_df['segments'].tolist(), desc=\"Processing segments\"):\n",
    "    # Reference similarity check\n",
    "    max_sim, ref_flag = check_reference_similarity(seg, ref_embeddings, threshold=0.9)\n",
    "    ref_similarities.append(max_sim)\n",
    "    ref_flags.append(ref_flag)\n",
    "\n",
    "    # Compute perplexity for original\n",
    "    try:\n",
    "        ppl_orig = compute_perplexity(seg, lm_model, lm_tokenizer)\n",
    "    except Exception as e:\n",
    "        ppl_orig = None\n",
    "    # Generate perturbed version and compute perplexity\n",
    "    perturbed_seg = perturb_text(seg)\n",
    "    try:\n",
    "        ppl_perturbed = compute_perplexity(perturbed_seg, lm_model, lm_tokenizer)\n",
    "    except Exception as e:\n",
    "        ppl_perturbed = None\n",
    "\n",
    "    perplexity_orig_list.append(ppl_orig)\n",
    "    perplexity_perturbed_list.append(ppl_perturbed)\n",
    "\n",
    "    # Check if confidence gap flag condition is met (if both perplexities are computed)\n",
    "    if (ppl_orig is not None and ppl_perturbed is not None and ppl_perturbed > 0):\n",
    "        conf_flag = ppl_orig < perplexity_ratio_threshold * ppl_perturbed\n",
    "    else:\n",
    "        conf_flag = False\n",
    "    confidence_flags.append(conf_flag)\n",
    "\n",
    "# Add the results to the sample DataFrame\n",
    "sample_df['ref_similarity'] = ref_similarities\n",
    "sample_df['ref_flag'] = ref_flags\n",
    "sample_df['ppl_original'] = perplexity_orig_list\n",
    "sample_df['ppl_perturbed'] = perplexity_perturbed_list\n",
    "sample_df['confidence_flag'] = confidence_flags\n",
    "\n",
    "# Combine flags: flag if either reference flag or confidence flag is True\n",
    "sample_df['contamination_flag'] = sample_df['ref_flag'] | sample_df['confidence_flag']"
   ],
   "id": "c3c5dd1ef3b33",
   "outputs": [
    {
     "data": {
      "text/plain": [
       "Processing segments:   0%|          | 0/189700 [00:00<?, ?it/s]"
      ],
      "application/vnd.jupyter.widget-view+json": {
       "version_major": 2,
       "version_minor": 0,
       "model_id": "7ea469f76db64c988b112b7b407317be"
      }
     },
     "metadata": {},
     "output_type": "display_data"
    },
    {
     "name": "stderr",
     "output_type": "stream",
     "text": [
      "`loss_type=None` was set in the config but it is unrecognised.Using the default loss: `ForCausalLMLoss`.\n",
      "Token indices sequence length is longer than the specified maximum sequence length for this model (1246 > 1024). Running this sequence through the model will result in indexing errors\n"
     ]
    }
   ],
   "execution_count": 7
  },
  {
   "metadata": {
    "ExecuteTime": {
     "end_time": "2025-03-28T17:17:14.987437Z",
     "start_time": "2025-03-28T17:17:14.966849Z"
    }
   },
   "cell_type": "code",
   "source": "sample_df.head()",
   "id": "3a1653bc59e16a35",
   "outputs": [
    {
     "data": {
      "text/plain": [
       "                                                text  text_length  \\\n",
       "0  = Valkyria Chronicles III =\\nSenjō no Valkyria...        20297   \n",
       "1  = Valkyria Chronicles III =\\nSenjō no Valkyria...        20297   \n",
       "2  = Valkyria Chronicles III =\\nSenjō no Valkyria...        20297   \n",
       "3  = Valkyria Chronicles III =\\nSenjō no Valkyria...        20297   \n",
       "4  = Valkyria Chronicles III =\\nSenjō no Valkyria...        20297   \n",
       "\n",
       "                                        cleaned_text  \\\n",
       "0  = valkyria chronicles iii = senj no valkyria 3...   \n",
       "1  = valkyria chronicles iii = senj no valkyria 3...   \n",
       "2  = valkyria chronicles iii = senj no valkyria 3...   \n",
       "3  = valkyria chronicles iii = senj no valkyria 3...   \n",
       "4  = valkyria chronicles iii = senj no valkyria 3...   \n",
       "\n",
       "                                              tokens  \\\n",
       "0  ['=', 'Ġv', 'alky', 'ria', 'Ġchron', 'icles', ...   \n",
       "1  ['=', 'Ġv', 'alky', 'ria', 'Ġchron', 'icles', ...   \n",
       "2  ['=', 'Ġv', 'alky', 'ria', 'Ġchron', 'icles', ...   \n",
       "3  ['=', 'Ġv', 'alky', 'ria', 'Ġchron', 'icles', ...   \n",
       "4  ['=', 'Ġv', 'alky', 'ria', 'Ġchron', 'icles', ...   \n",
       "\n",
       "                                            segments  ref_similarity  \\\n",
       "0  = valkyria chronicles iii = senj no valkyria 3...        0.197435   \n",
       "1  valkyria of the battlefield 3), commonly refer...        0.131318   \n",
       "2  released in january 2011 in japan, it is the t...        0.156899   \n",
       "3  employing the same fusion of tactical and real...        0.157302   \n",
       "4  the game began development in 2010, carrying o...        0.093961   \n",
       "\n",
       "   ref_flag  ppl_original  ppl_perturbed  confidence_flag  contamination_flag  \n",
       "0     False    178.504913     369.689667             True                True  \n",
       "1     False    170.454163    1000.327271             True                True  \n",
       "2     False     41.388802    1023.383057             True                True  \n",
       "3     False    203.477921    2959.993652             True                True  \n",
       "4     False    118.153999    2026.916992             True                True  "
      ],
      "text/html": [
       "<div>\n",
       "<style scoped>\n",
       "    .dataframe tbody tr th:only-of-type {\n",
       "        vertical-align: middle;\n",
       "    }\n",
       "\n",
       "    .dataframe tbody tr th {\n",
       "        vertical-align: top;\n",
       "    }\n",
       "\n",
       "    .dataframe thead th {\n",
       "        text-align: right;\n",
       "    }\n",
       "</style>\n",
       "<table border=\"1\" class=\"dataframe\">\n",
       "  <thead>\n",
       "    <tr style=\"text-align: right;\">\n",
       "      <th></th>\n",
       "      <th>text</th>\n",
       "      <th>text_length</th>\n",
       "      <th>cleaned_text</th>\n",
       "      <th>tokens</th>\n",
       "      <th>segments</th>\n",
       "      <th>ref_similarity</th>\n",
       "      <th>ref_flag</th>\n",
       "      <th>ppl_original</th>\n",
       "      <th>ppl_perturbed</th>\n",
       "      <th>confidence_flag</th>\n",
       "      <th>contamination_flag</th>\n",
       "    </tr>\n",
       "  </thead>\n",
       "  <tbody>\n",
       "    <tr>\n",
       "      <th>0</th>\n",
       "      <td>= Valkyria Chronicles III =\\nSenjō no Valkyria...</td>\n",
       "      <td>20297</td>\n",
       "      <td>= valkyria chronicles iii = senj no valkyria 3...</td>\n",
       "      <td>['=', 'Ġv', 'alky', 'ria', 'Ġchron', 'icles', ...</td>\n",
       "      <td>= valkyria chronicles iii = senj no valkyria 3...</td>\n",
       "      <td>0.197435</td>\n",
       "      <td>False</td>\n",
       "      <td>178.504913</td>\n",
       "      <td>369.689667</td>\n",
       "      <td>True</td>\n",
       "      <td>True</td>\n",
       "    </tr>\n",
       "    <tr>\n",
       "      <th>1</th>\n",
       "      <td>= Valkyria Chronicles III =\\nSenjō no Valkyria...</td>\n",
       "      <td>20297</td>\n",
       "      <td>= valkyria chronicles iii = senj no valkyria 3...</td>\n",
       "      <td>['=', 'Ġv', 'alky', 'ria', 'Ġchron', 'icles', ...</td>\n",
       "      <td>valkyria of the battlefield 3), commonly refer...</td>\n",
       "      <td>0.131318</td>\n",
       "      <td>False</td>\n",
       "      <td>170.454163</td>\n",
       "      <td>1000.327271</td>\n",
       "      <td>True</td>\n",
       "      <td>True</td>\n",
       "    </tr>\n",
       "    <tr>\n",
       "      <th>2</th>\n",
       "      <td>= Valkyria Chronicles III =\\nSenjō no Valkyria...</td>\n",
       "      <td>20297</td>\n",
       "      <td>= valkyria chronicles iii = senj no valkyria 3...</td>\n",
       "      <td>['=', 'Ġv', 'alky', 'ria', 'Ġchron', 'icles', ...</td>\n",
       "      <td>released in january 2011 in japan, it is the t...</td>\n",
       "      <td>0.156899</td>\n",
       "      <td>False</td>\n",
       "      <td>41.388802</td>\n",
       "      <td>1023.383057</td>\n",
       "      <td>True</td>\n",
       "      <td>True</td>\n",
       "    </tr>\n",
       "    <tr>\n",
       "      <th>3</th>\n",
       "      <td>= Valkyria Chronicles III =\\nSenjō no Valkyria...</td>\n",
       "      <td>20297</td>\n",
       "      <td>= valkyria chronicles iii = senj no valkyria 3...</td>\n",
       "      <td>['=', 'Ġv', 'alky', 'ria', 'Ġchron', 'icles', ...</td>\n",
       "      <td>employing the same fusion of tactical and real...</td>\n",
       "      <td>0.157302</td>\n",
       "      <td>False</td>\n",
       "      <td>203.477921</td>\n",
       "      <td>2959.993652</td>\n",
       "      <td>True</td>\n",
       "      <td>True</td>\n",
       "    </tr>\n",
       "    <tr>\n",
       "      <th>4</th>\n",
       "      <td>= Valkyria Chronicles III =\\nSenjō no Valkyria...</td>\n",
       "      <td>20297</td>\n",
       "      <td>= valkyria chronicles iii = senj no valkyria 3...</td>\n",
       "      <td>['=', 'Ġv', 'alky', 'ria', 'Ġchron', 'icles', ...</td>\n",
       "      <td>the game began development in 2010, carrying o...</td>\n",
       "      <td>0.093961</td>\n",
       "      <td>False</td>\n",
       "      <td>118.153999</td>\n",
       "      <td>2026.916992</td>\n",
       "      <td>True</td>\n",
       "      <td>True</td>\n",
       "    </tr>\n",
       "  </tbody>\n",
       "</table>\n",
       "</div>"
      ]
     },
     "execution_count": 8,
     "metadata": {},
     "output_type": "execute_result"
    }
   ],
   "execution_count": 8
  },
  {
   "metadata": {
    "ExecuteTime": {
     "end_time": "2025-03-28T17:17:16.135992Z",
     "start_time": "2025-03-28T17:17:15.313575Z"
    }
   },
   "cell_type": "code",
   "source": [
    "# Plot histogram of reference similarities\n",
    "plt.figure(figsize=(8, 4))\n",
    "plt.hist(ref_similarities, bins=30, color='skyblue', edgecolor='black')\n",
    "plt.title(\"Distribution of Reference Similarity Scores\")\n",
    "plt.xlabel(\"Maximum Cosine Similarity\")\n",
    "plt.ylabel(\"Frequency\")\n",
    "plt.show()\n",
    "\n",
    "# Plot histogram of original perplexities\n",
    "valid_ppl_orig = [p for p in perplexity_orig_list if p is not None]\n",
    "plt.figure(figsize=(8, 4))\n",
    "plt.hist(valid_ppl_orig, bins=30, color='lightgreen', edgecolor='black')\n",
    "plt.title(\"Distribution of Original Perplexity\")\n",
    "plt.xlabel(\"Perplexity\")\n",
    "plt.ylabel(\"Frequency\")\n",
    "plt.show()\n",
    "\n",
    "# Plot histogram of perturbed perplexities\n",
    "valid_ppl_pert = [p for p in perplexity_perturbed_list if p is not None]\n",
    "plt.figure(figsize=(8, 4))\n",
    "plt.hist(valid_ppl_pert, bins=30, color='salmon', edgecolor='black')\n",
    "plt.title(\"Distribution of Perturbed Perplexity\")\n",
    "plt.xlabel(\"Perplexity\")\n",
    "plt.ylabel(\"Frequency\")\n",
    "plt.show()\n",
    "\n",
    "# Count and display flagged segments\n",
    "num_flagged = sample_df['contamination_flag'].sum()\n",
    "print(f\"Number of flagged segments in the sample: {num_flagged} / {len(sample_df)}\")"
   ],
   "id": "21705faa8d882ac1",
   "outputs": [
    {
     "data": {
      "text/plain": [
       "<Figure size 800x400 with 1 Axes>"
      ],
      "image/png": "[encoded data removed]"
     },
     "metadata": {},
     "output_type": "display_data"
    },
    {
     "data": {
      "text/plain": [
       "<Figure size 800x400 with 1 Axes>"
      ],
      "image/png": "[encoded data removed]"
     },
     "metadata": {},
     "output_type": "display_data"
    },
    {
     "data": {
      "text/plain": [
       "<Figure size 800x400 with 1 Axes>"
      ],
      "image/png": "[encoded data removed]"
     },
     "metadata": {},
     "output_type": "display_data"
    },
    {
     "name": "stdout",
     "output_type": "stream",
     "text": [
      "Number of flagged segments in the sample: 187327 / 189700\n"
     ]
    }
   ],
   "execution_count": 9
  },
  {
   "metadata": {},
   "cell_type": "markdown",
   "source": [
    "## Saving Flagged segments\n",
    "\n",
    "summary stats and saving the flagged segments"
   ],
   "id": "21115a665fd1fe7f"
  },
  {
   "metadata": {
    "ExecuteTime": {
     "end_time": "2025-03-28T17:18:40.368788Z",
     "start_time": "2025-03-28T17:17:16.166068Z"
    }
   },
   "cell_type": "code",
   "source": [
    "# Count the number of flagged segments\n",
    "num_flagged = sample_df['contamination_flag'].sum()\n",
    "print(f\"Number of flagged segments in the sample: {num_flagged} / {len(sample_df)}\")\n",
    "\n",
    "# Save the results for further inspection\n",
    "output_dir = \"../data\"\n",
    "os.makedirs(output_dir, exist_ok=True)\n",
    "flagged_output_file = os.path.join(output_dir, \"contamination_flags_sample.csv\")\n",
    "sample_df.to_csv(flagged_output_file, index=False)\n",
    "print(f\"Flagged segments saved to {flagged_output_file}\")"
   ],
   "id": "11ed6388f4fdabb3",
   "outputs": [
    {
     "name": "stdout",
     "output_type": "stream",
     "text": [
      "Number of flagged segments in the sample: 187327 / 189700\n",
      "Flagged segments saved to ../data/contamination_flags_sample.csv\n"
     ]
    }
   ],
   "execution_count": 10
  },
  {
   "metadata": {
    "ExecuteTime": {
     "end_time": "2025-03-28T17:18:40.434311Z",
     "start_time": "2025-03-28T17:18:40.433055Z"
    }
   },
   "cell_type": "code",
   "source": "",
   "id": "aa8c9e8b1c5a4fcf",
   "outputs": [],
   "execution_count": null
  }
 ],
 "metadata": {
  "kernelspec": {
   "display_name": "Python 3",
   "language": "python",
   "name": "python3"
  },
  "language_info": {
   "codemirror_mode": {
    "name": "ipython",
    "version": 2
   },
   "file_extension": ".py",
   "mimetype": "text/x-python",
   "name": "python",
   "nbconvert_exporter": "python",
   "pygments_lexer": "ipython2",
   "version": "2.7.6"
  }
 },
 "nbformat": 4,
 "nbformat_minor": 5
}
